{
  "nbformat": 4,
  "nbformat_minor": 0,
  "metadata": {
    "colab": {
      "provenance": [],
      "authorship_tag": "ABX9TyMrTa9VGjVJp2n04ihKeAZV",
      "include_colab_link": true
    },
    "kernelspec": {
      "name": "python3",
      "display_name": "Python 3"
    },
    "language_info": {
      "name": "python"
    }
  },
  "cells": [
    {
      "cell_type": "markdown",
      "metadata": {
        "id": "view-in-github",
        "colab_type": "text"
      },
      "source": [
        "<a href=\"https://colab.research.google.com/github/rithiksai18/CHAT-BOT/blob/main/Untitled2.ipynb\" target=\"_parent\"><img src=\"https://colab.research.google.com/assets/colab-badge.svg\" alt=\"Open In Colab\"/></a>"
      ]
    },
    {
      "source": [
        "# Install dependencies\n",
        "!pip install llama-cpp-python==0.2.62 gradio --quiet\n",
        "\n",
        "# Download the model (you can replace this with DeepSeek or another GGUF model)\n",
        "!wget -q https://huggingface.co/TheBloke/Mistral-7B-Instruct-v0.1-GGUF/resolve/main/mistral-7b-instruct-v0.1.Q4_K_M.gguf -O model.gguf\n",
        "\n",
        "!pip install llama-cpp-python==0.2.62 gradio --quiet\n",
        "import gradio as gr\n",
        "import os\n",
        "# Import Llama class from llama_cpp\n",
        "from llama_cpp import Llama  # This line is crucial to fix the error\n",
        "import contextlib\n",
        "import os\n",
        "\n",
        "# Load the model\n",
        "# Define a custom context manager to suppress stdout/stderr\n",
        "# This is needed to work around the fileno issue in Jupyter notebooks\n",
        "# Modified context manager to redirect stdout/stderr to devnull\n",
        "class suppress_stdout_stderr:\n",
        "    def __enter__(self):\n",
        "        self.null_fds = [os.open(os.devnull, os.O_RDWR) for _ in range(2)]\n",
        "        self.save_fds = [os.dup(1), os.dup(2)]  # Save original stdout/stderr fds\n",
        "        os.dup2(self.null_fds[0], 1)  # Redirect stdout to devnull\n",
        "        os.dup2(self.null_fds[1], 2)  # Redirect stderr to devnull\n",
        "\n",
        "    def __exit__(self, exc_type, exc_val, exc_tb):\n",
        "        # Restore original stdout/stderr fds\n",
        "        os.dup2(self.save_fds[0], 1)\n",
        "        os.dup2(self.save_fds[1], 2)\n",
        "        os.close(self.null_fds[0])\n",
        "        os.close(self.null_fds[1])\n",
        "        os.close(self.save_fds[0])\n",
        "        os.close(self.save_fds[1])\n",
        "\n",
        "# Use a context manager that is compatible with Jupyter notebooks\n",
        "# We use the `redirect_stdout` context manager from `contextlib`\n",
        "# and redirect both stdout and stderr to /dev/null\n",
        "with contextlib.redirect_stdout(open(os.devnull, 'w')), contextlib.redirect_stderr(open(os.devnull, 'w')):\n",
        "    llm = Llama(\n",
        "        model_path=\"model.gguf\",\n",
        "        n_ctx=2048,\n",
        "        n_threads=8,          # Adjust based on your CPU\n",
        "        use_mlock=True,       # Speeds up on some machines\n",
        "        verbose=False\n",
        "    )\n",
        "\n",
        "# Initialize chat history\n",
        "chat_history = []\n",
        "\n",
        "# Format conversation for inference\n",
        "def format_prompt(history, user_input):\n",
        "    prompt = \"\"\n",
        "    for turn in history:\n",
        "        prompt += f\"User: {turn['user']}\\nAssistant: {turn['bot']}\\n\"\n",
        "    prompt += f\"User: {user_input}\\nAssistant:\"\n",
        "    return prompt\n",
        "\n",
        "# Chat function\n",
        "def chat_with_model(user_input):\n",
        "    global chat_history\n",
        "    prompt = format_prompt(chat_history, user_input)\n",
        "    output = llm(prompt, max_tokens=512, stop=[\"User:\", \"Assistant:\"])\n",
        "    reply = output[\"choices\"][0][\"text\"].strip()\n",
        "    chat_history.append({\"user\": user_input, \"bot\": reply})\n",
        "    return reply\n",
        "\n",
        "# Build Gradio UI\n",
        "with gr.Blocks() as demo:\n",
        "    gr.Markdown(\"# Open Source ChatGPT Clone (Mistral 7B Instruct)\")\n",
        "    chatbot = gr.Chatbot()\n",
        "    msg = gr.Textbox(placeholder=\"Ask me anything...\", show_label=False)\n",
        "    clear = gr.Button(\"Clear Chat\")\n",
        "\n",
        "    def respond(message, chat_ui_history):\n",
        "        reply = chat_with_model(message)\n",
        "        chat_ui_history.append((message, reply))\n",
        "        return chat_ui_history, \"\"\n",
        "\n",
        "    def reset_chat():\n",
        "        global chat_history\n",
        "        chat_history = []\n",
        "        return [], \"\"\n",
        "\n",
        "    msg.submit(respond, [msg, chatbot], [chatbot, msg])\n",
        "    clear.click(reset_chat, [], [chatbot, msg])\n",
        "\n",
        "# Launch the Gradio app\n",
        "demo.launch(share=True)"
      ],
      "cell_type": "code",
      "metadata": {
        "colab": {
          "base_uri": "https://localhost:8080/",
          "height": 646
        },
        "id": "cjvGvpCd13jp",
        "outputId": "e739f38a-1c1d-4f17-a8f6-731c7d72e83d"
      },
      "execution_count": 7,
      "outputs": [
        {
          "output_type": "stream",
          "name": "stderr",
          "text": [
            "<ipython-input-7-53bc3a790ef5>:70: UserWarning: You have not specified a value for the `type` parameter. Defaulting to the 'tuples' format for chatbot messages, but this is deprecated and will be removed in a future version of Gradio. Please set type='messages' instead, which uses openai-style dictionaries with 'role' and 'content' keys.\n",
            "  chatbot = gr.Chatbot()\n"
          ]
        },
        {
          "output_type": "stream",
          "name": "stdout",
          "text": [
            "Colab notebook detected. To show errors in colab notebook, set debug=True in launch()\n",
            "* Running on public URL: https://ef9abddc3d21d902f8.gradio.live\n",
            "\n",
            "This share link expires in 1 week. For free permanent hosting and GPU upgrades, run `gradio deploy` from the terminal in the working directory to deploy to Hugging Face Spaces (https://huggingface.co/spaces)\n"
          ]
        },
        {
          "output_type": "display_data",
          "data": {
            "text/plain": [
              "<IPython.core.display.HTML object>"
            ],
            "text/html": [
              "<div><iframe src=\"https://ef9abddc3d21d902f8.gradio.live\" width=\"100%\" height=\"500\" allow=\"autoplay; camera; microphone; clipboard-read; clipboard-write;\" frameborder=\"0\" allowfullscreen></iframe></div>"
            ]
          },
          "metadata": {}
        },
        {
          "output_type": "execute_result",
          "data": {
            "text/plain": []
          },
          "metadata": {},
          "execution_count": 7
        }
      ]
    }
  ]
}